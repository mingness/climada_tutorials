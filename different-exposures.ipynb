{
 "cells": [
  {
   "cell_type": "markdown",
   "id": "a6a39519-18d1-4061-b4b0-ce7ed4337ad0",
   "metadata": {},
   "source": [
    "# Calculating Impact with Different Exposures"
   ]
  },
  {
   "cell_type": "markdown",
   "id": "48867648-b425-44c2-b8f0-f8232c7683c5",
   "metadata": {},
   "source": [
    "This notebook goes through the calculation of the impact of tropical cyclones on New Zealand for two exposure types, `gdp` and `norm` (normalized to 1); these are set with `fin_mode`. This notebook shows that using `gdp` to calculate a fractional impact is the same as using `norm`."
   ]
  },
  {
   "cell_type": "code",
   "execution_count": 1,
   "id": "b8792acb-e11b-473a-a904-f449c62f18b7",
   "metadata": {},
   "outputs": [],
   "source": [
    "%matplotlib inline\n",
    "import numpy as np\n",
    "import pandas as pd\n",
    "import matplotlib.pyplot as plt"
   ]
  },
  {
   "cell_type": "code",
   "execution_count": 2,
   "id": "397a4341-03f2-4a32-9715-720b08527d51",
   "metadata": {},
   "outputs": [
    {
     "name": "stderr",
     "output_type": "stream",
     "text": [
      "/home/ming/mambaforge/envs/climada_stable/lib/python3.9/site-packages/dask/dataframe/_pyarrow_compat.py:17: FutureWarning: Minimal version of pyarrow will soon be increased to 14.0.1. You are using 12.0.1. Please consider upgrading.\n",
      "  warnings.warn(\n"
     ]
    }
   ],
   "source": [
    "from climada.entity import LitPop\n",
    "\n",
    "from climada.entity.entity_def import Entity\n",
    "from climada.entity import ImpactFuncSet, ImpactFunc\n",
    "from climada.engine import Impact\n",
    "from climada.engine import ImpactCalc\n",
    "\n",
    "from climada.hazard import TCTracks, TropCyclone, Centroids\n",
    "from climada.entity import ImpfTropCyclone"
   ]
  },
  {
   "cell_type": "markdown",
   "id": "4bcd1b9b-4e3d-46db-a341-48bb86c356f3",
   "metadata": {},
   "source": [
    "### Define Hazard (Tropical Cyclone)"
   ]
  },
  {
   "cell_type": "code",
   "execution_count": 3,
   "id": "d9f0b21c-c614-4c62-b45a-fc97ae1f972b",
   "metadata": {},
   "outputs": [
    {
     "name": "stdout",
     "output_type": "stream",
     "text": [
      "2024-08-03 13:42:20,304 - climada.entity.exposures.litpop.gpw_population - WARNING - Reference year: 2018. Using nearest available year for GPW data: 2020\n",
      "2024-08-03 13:42:20,325 - climada.entity.exposures.litpop.gpw_population - WARNING - Reference year: 2018. Using nearest available year for GPW data: 2020\n",
      "2024-08-03 13:42:20,338 - climada.entity.exposures.litpop.gpw_population - WARNING - Reference year: 2018. Using nearest available year for GPW data: 2020\n",
      "2024-08-03 13:42:20,351 - climada.entity.exposures.litpop.gpw_population - WARNING - Reference year: 2018. Using nearest available year for GPW data: 2020\n",
      "2024-08-03 13:42:20,379 - climada.entity.exposures.litpop.gpw_population - WARNING - Reference year: 2018. Using nearest available year for GPW data: 2020\n",
      "2024-08-03 13:42:20,392 - climada.entity.exposures.litpop.gpw_population - WARNING - Reference year: 2018. Using nearest available year for GPW data: 2020\n",
      "2024-08-03 13:42:20,407 - climada.entity.exposures.litpop.gpw_population - WARNING - Reference year: 2018. Using nearest available year for GPW data: 2020\n",
      "2024-08-03 13:42:20,423 - climada.entity.exposures.litpop.gpw_population - WARNING - Reference year: 2018. Using nearest available year for GPW data: 2020\n",
      "2024-08-03 13:42:20,437 - climada.entity.exposures.litpop.gpw_population - WARNING - Reference year: 2018. Using nearest available year for GPW data: 2020\n",
      "2024-08-03 13:42:20,460 - climada.entity.exposures.litpop.gpw_population - WARNING - Reference year: 2018. Using nearest available year for GPW data: 2020\n",
      "2024-08-03 13:42:20,474 - climada.entity.exposures.litpop.gpw_population - WARNING - Reference year: 2018. Using nearest available year for GPW data: 2020\n",
      "2024-08-03 13:42:20,480 - climada.entity.exposures.litpop.gpw_population - WARNING - Reference year: 2018. Using nearest available year for GPW data: 2020\n",
      "2024-08-03 13:42:20,487 - climada.entity.exposures.litpop.gpw_population - WARNING - Reference year: 2018. Using nearest available year for GPW data: 2020\n",
      "2024-08-03 13:42:20,501 - climada.entity.exposures.litpop.gpw_population - WARNING - Reference year: 2018. Using nearest available year for GPW data: 2020\n",
      "2024-08-03 13:42:20,515 - climada.entity.exposures.litpop.gpw_population - WARNING - Reference year: 2018. Using nearest available year for GPW data: 2020\n",
      "2024-08-03 13:42:20,529 - climada.entity.exposures.litpop.gpw_population - WARNING - Reference year: 2018. Using nearest available year for GPW data: 2020\n",
      "2024-08-03 13:42:20,823 - climada.entity.exposures.litpop.gpw_population - WARNING - Reference year: 2018. Using nearest available year for GPW data: 2020\n",
      "2024-08-03 13:42:20,839 - climada.entity.exposures.litpop.gpw_population - WARNING - Reference year: 2018. Using nearest available year for GPW data: 2020\n",
      "2024-08-03 13:42:20,857 - climada.entity.exposures.litpop.gpw_population - WARNING - Reference year: 2018. Using nearest available year for GPW data: 2020\n",
      "2024-08-03 13:42:21,194 - climada.entity.exposures.litpop.gpw_population - WARNING - Reference year: 2018. Using nearest available year for GPW data: 2020\n",
      "2024-08-03 13:42:21,209 - climada.entity.exposures.litpop.gpw_population - WARNING - Reference year: 2018. Using nearest available year for GPW data: 2020\n",
      "2024-08-03 13:42:21,223 - climada.entity.exposures.litpop.gpw_population - WARNING - Reference year: 2018. Using nearest available year for GPW data: 2020\n",
      "2024-08-03 13:42:21,230 - climada.entity.exposures.litpop.gpw_population - WARNING - Reference year: 2018. Using nearest available year for GPW data: 2020\n",
      "2024-08-03 13:42:21,252 - climada.entity.exposures.litpop.gpw_population - WARNING - Reference year: 2018. Using nearest available year for GPW data: 2020\n",
      "2024-08-03 13:42:21,265 - climada.entity.exposures.litpop.gpw_population - WARNING - Reference year: 2018. Using nearest available year for GPW data: 2020\n"
     ]
    }
   ],
   "source": [
    "# Define exposure here only to get the centroid locations\n",
    "# NZ with resolution 10km\n",
    "exp_nz = LitPop.from_countries(countries=['NZL'],fin_mode='norm',res_arcsec=300)\n",
    "\n",
    "# Define the centroids from the exposures position\n",
    "lat = exp_nz.gdf['latitude'].values\n",
    "lon = exp_nz.gdf['longitude'].values\n",
    "centrs = Centroids.from_lat_lon(lat, lon)\n",
    "centrs.check()"
   ]
  },
  {
   "cell_type": "code",
   "execution_count": 10,
   "id": "62d60a6f-9f7c-479e-9b0b-82d0a429d63e",
   "metadata": {},
   "outputs": [
    {
     "name": "stdout",
     "output_type": "stream",
     "text": [
      "2024-08-03 13:46:03,628 - climada.hazard.tc_tracks - WARNING - `correct_pres` is deprecated. Use `estimate_missing` instead.\n",
      "2024-08-03 13:46:03,800 - climada.hazard.tc_tracks - WARNING - The cached IBTrACS data set dates from 2023-06-07 23:07:38 (older than 180 days). Very likely, a more recent version is available. Consider manually removing the file /home/ming/climada/data/IBTrACS.ALL.v04r00.nc and re-running this function, which will download the most recent version of the IBTrACS data set from the official URL.\n",
      "2024-08-03 13:46:04,648 - climada.hazard.tc_tracks - WARNING - 94 storm events are discarded because no valid wind/pressure values have been found: 2010020S14147, 2010022S12160, 2010027S14184, 2010038S08194, 2010051S06195, ...\n"
     ]
    },
    {
     "name": "stderr",
     "output_type": "stream",
     "text": [
      "/home/ming/mambaforge/envs/climada_stable/lib/python3.9/site-packages/climada/hazard/tc_tracks.py:614: FutureWarning: The return type of `Dataset.dims` will be changed to return a set of dimension names in future, in order to be more consistent with `DataArray.dims`. To access a mapping from dimension names to lengths, please use `Dataset.sizes`.\n",
      "  if ibtracs_ds.dims['storm'] == 0:\n"
     ]
    },
    {
     "name": "stdout",
     "output_type": "stream",
     "text": [
      "num tracks hist: 47\n"
     ]
    }
   ],
   "source": [
    "# Load historical tropical cyclone tracks from ibtracs over the North Atlantic basin between 2010-2012\n",
    "ibtracks_nz = TCTracks.from_ibtracs_netcdf(provider='wellington', basin='SP', year_range=(2010, 2023), correct_pres=True)\n",
    "ibtracks_nz.equal_timestep(time_step_h=0.1)\n",
    "print('num tracks hist:', ibtracks_nz.size)\n",
    "\n",
    "# Using the tracks, compute the windspeed at the location of the centroids\n",
    "haz_tc = TropCyclone.from_tracks(ibtracks_nz, centroids=centrs)\n",
    "haz_tc.check()"
   ]
  },
  {
   "cell_type": "markdown",
   "id": "e073d7ad-126d-4228-9659-156aea400fec",
   "metadata": {},
   "source": [
    "### Impact function"
   ]
  },
  {
   "cell_type": "code",
   "execution_count": 5,
   "id": "9ec15e8f-ec39-482a-ae36-7594b233df91",
   "metadata": {},
   "outputs": [],
   "source": [
    "# impact function TC\n",
    "impf_tc = ImpfTropCyclone.from_emanuel_usa()\n",
    "\n",
    "# add the impact function to an Impact function set\n",
    "impf_set = ImpactFuncSet([impf_tc])\n",
    "\n",
    "# Get the hazard type and hazard id\n",
    "[haz_type] = impf_set.get_hazard_types()\n",
    "[haz_id] = impf_set.get_ids()[haz_type]"
   ]
  },
  {
   "cell_type": "markdown",
   "id": "8f32689b-fc3e-4704-b9dd-6039160551c5",
   "metadata": {},
   "source": [
    "### Exposure with gdp"
   ]
  },
  {
   "cell_type": "code",
   "execution_count": 6,
   "id": "a8a9dbf9-96af-4aa8-ba4e-7970394ccf68",
   "metadata": {},
   "outputs": [
    {
     "name": "stdout",
     "output_type": "stream",
     "text": [
      "2024-08-03 13:42:33,002 - climada.entity.exposures.litpop.gpw_population - WARNING - Reference year: 2018. Using nearest available year for GPW data: 2020\n",
      "2024-08-03 13:42:33,026 - climada.entity.exposures.litpop.gpw_population - WARNING - Reference year: 2018. Using nearest available year for GPW data: 2020\n",
      "2024-08-03 13:42:33,041 - climada.entity.exposures.litpop.gpw_population - WARNING - Reference year: 2018. Using nearest available year for GPW data: 2020\n",
      "2024-08-03 13:42:33,056 - climada.entity.exposures.litpop.gpw_population - WARNING - Reference year: 2018. Using nearest available year for GPW data: 2020\n",
      "2024-08-03 13:42:33,087 - climada.entity.exposures.litpop.gpw_population - WARNING - Reference year: 2018. Using nearest available year for GPW data: 2020\n",
      "2024-08-03 13:42:33,102 - climada.entity.exposures.litpop.gpw_population - WARNING - Reference year: 2018. Using nearest available year for GPW data: 2020\n",
      "2024-08-03 13:42:33,119 - climada.entity.exposures.litpop.gpw_population - WARNING - Reference year: 2018. Using nearest available year for GPW data: 2020\n",
      "2024-08-03 13:42:33,135 - climada.entity.exposures.litpop.gpw_population - WARNING - Reference year: 2018. Using nearest available year for GPW data: 2020\n",
      "2024-08-03 13:42:33,150 - climada.entity.exposures.litpop.gpw_population - WARNING - Reference year: 2018. Using nearest available year for GPW data: 2020\n",
      "2024-08-03 13:42:33,174 - climada.entity.exposures.litpop.gpw_population - WARNING - Reference year: 2018. Using nearest available year for GPW data: 2020\n",
      "2024-08-03 13:42:33,189 - climada.entity.exposures.litpop.gpw_population - WARNING - Reference year: 2018. Using nearest available year for GPW data: 2020\n",
      "2024-08-03 13:42:33,195 - climada.entity.exposures.litpop.gpw_population - WARNING - Reference year: 2018. Using nearest available year for GPW data: 2020\n",
      "2024-08-03 13:42:33,202 - climada.entity.exposures.litpop.gpw_population - WARNING - Reference year: 2018. Using nearest available year for GPW data: 2020\n",
      "2024-08-03 13:42:33,217 - climada.entity.exposures.litpop.gpw_population - WARNING - Reference year: 2018. Using nearest available year for GPW data: 2020\n",
      "2024-08-03 13:42:33,232 - climada.entity.exposures.litpop.gpw_population - WARNING - Reference year: 2018. Using nearest available year for GPW data: 2020\n",
      "2024-08-03 13:42:33,246 - climada.entity.exposures.litpop.gpw_population - WARNING - Reference year: 2018. Using nearest available year for GPW data: 2020\n",
      "2024-08-03 13:42:33,602 - climada.entity.exposures.litpop.gpw_population - WARNING - Reference year: 2018. Using nearest available year for GPW data: 2020\n",
      "2024-08-03 13:42:33,618 - climada.entity.exposures.litpop.gpw_population - WARNING - Reference year: 2018. Using nearest available year for GPW data: 2020\n",
      "2024-08-03 13:42:33,636 - climada.entity.exposures.litpop.gpw_population - WARNING - Reference year: 2018. Using nearest available year for GPW data: 2020\n",
      "2024-08-03 13:42:33,972 - climada.entity.exposures.litpop.gpw_population - WARNING - Reference year: 2018. Using nearest available year for GPW data: 2020\n",
      "2024-08-03 13:42:33,988 - climada.entity.exposures.litpop.gpw_population - WARNING - Reference year: 2018. Using nearest available year for GPW data: 2020\n",
      "2024-08-03 13:42:34,002 - climada.entity.exposures.litpop.gpw_population - WARNING - Reference year: 2018. Using nearest available year for GPW data: 2020\n",
      "2024-08-03 13:42:34,010 - climada.entity.exposures.litpop.gpw_population - WARNING - Reference year: 2018. Using nearest available year for GPW data: 2020\n",
      "2024-08-03 13:42:34,031 - climada.entity.exposures.litpop.gpw_population - WARNING - Reference year: 2018. Using nearest available year for GPW data: 2020\n",
      "2024-08-03 13:42:34,045 - climada.entity.exposures.litpop.gpw_population - WARNING - Reference year: 2018. Using nearest available year for GPW data: 2020\n"
     ]
    }
   ],
   "source": [
    "# NZ with resolution 10km\n",
    "exp_nz = LitPop.from_countries(countries=['NZL'],fin_mode='gdp',res_arcsec=300)\n",
    "\n",
    "# Exposures: rename column and assign id\n",
    "exp_nz.gdf.rename(columns={\"impf_\": \"impf_\" + haz_type}, inplace=True)\n",
    "exp_nz.gdf['impf_' + haz_type] = haz_id\n",
    "exp_nz.check()"
   ]
  },
  {
   "cell_type": "code",
   "execution_count": 7,
   "id": "db28944a-4ee8-4a75-9026-76e48f452727",
   "metadata": {},
   "outputs": [
    {
     "name": "stdout",
     "output_type": "stream",
     "text": [
      "Aggregated average annual impact: 136875.04685497616\n",
      "2024-08-03 13:42:34,376 - climada.engine.impact - WARNING - The Impact.tot_value attribute is deprecated.Use Exposures.affected_total_value to calculate the affected total exposure value based on a specific hazard intensity threshold\n",
      "total_value: (211846555690.73596, 0)\n",
      "2024-08-03 13:42:34,376 - climada.engine.impact - WARNING - The Impact.tot_value attribute is deprecated.Use Exposures.affected_total_value to calculate the affected total exposure value based on a specific hazard intensity threshold\n"
     ]
    },
    {
     "data": {
      "text/plain": [
       "6.461044389111819e-07"
      ]
     },
     "execution_count": 7,
     "metadata": {},
     "output_type": "execute_result"
    }
   ],
   "source": [
    "# Compute impact\n",
    "imp_tc = ImpactCalc(exp_nz, impf_set, haz_tc).impact()  # Do not save the results geographically resolved (only aggregate values)\n",
    "\n",
    "# aai_agg is the Aggregated average annual impact\n",
    "print(f\"Aggregated average annual impact: {imp_tc.aai_agg}\")\n",
    "\n",
    "print(f\"total_value: {imp_tc.tot_value,0}\")\n",
    "\n",
    "round(imp_tc.aai_agg,0)/round(imp_tc.tot_value,0)"
   ]
  },
  {
   "cell_type": "markdown",
   "id": "d18296eb-5ad9-4093-a014-acfccc26a4ec",
   "metadata": {},
   "source": [
    "### Exposure with norm"
   ]
  },
  {
   "cell_type": "code",
   "execution_count": 8,
   "id": "71c9186a-ad27-42b3-94de-2018970726bc",
   "metadata": {},
   "outputs": [
    {
     "name": "stdout",
     "output_type": "stream",
     "text": [
      "2024-08-03 13:42:36,671 - climada.entity.exposures.litpop.gpw_population - WARNING - Reference year: 2018. Using nearest available year for GPW data: 2020\n",
      "2024-08-03 13:42:36,692 - climada.entity.exposures.litpop.gpw_population - WARNING - Reference year: 2018. Using nearest available year for GPW data: 2020\n",
      "2024-08-03 13:42:36,706 - climada.entity.exposures.litpop.gpw_population - WARNING - Reference year: 2018. Using nearest available year for GPW data: 2020\n",
      "2024-08-03 13:42:36,720 - climada.entity.exposures.litpop.gpw_population - WARNING - Reference year: 2018. Using nearest available year for GPW data: 2020\n",
      "2024-08-03 13:42:36,748 - climada.entity.exposures.litpop.gpw_population - WARNING - Reference year: 2018. Using nearest available year for GPW data: 2020\n",
      "2024-08-03 13:42:36,761 - climada.entity.exposures.litpop.gpw_population - WARNING - Reference year: 2018. Using nearest available year for GPW data: 2020\n",
      "2024-08-03 13:42:36,777 - climada.entity.exposures.litpop.gpw_population - WARNING - Reference year: 2018. Using nearest available year for GPW data: 2020\n",
      "2024-08-03 13:42:36,796 - climada.entity.exposures.litpop.gpw_population - WARNING - Reference year: 2018. Using nearest available year for GPW data: 2020\n",
      "2024-08-03 13:42:36,814 - climada.entity.exposures.litpop.gpw_population - WARNING - Reference year: 2018. Using nearest available year for GPW data: 2020\n",
      "2024-08-03 13:42:36,840 - climada.entity.exposures.litpop.gpw_population - WARNING - Reference year: 2018. Using nearest available year for GPW data: 2020\n",
      "2024-08-03 13:42:36,857 - climada.entity.exposures.litpop.gpw_population - WARNING - Reference year: 2018. Using nearest available year for GPW data: 2020\n",
      "2024-08-03 13:42:36,864 - climada.entity.exposures.litpop.gpw_population - WARNING - Reference year: 2018. Using nearest available year for GPW data: 2020\n",
      "2024-08-03 13:42:36,872 - climada.entity.exposures.litpop.gpw_population - WARNING - Reference year: 2018. Using nearest available year for GPW data: 2020\n",
      "2024-08-03 13:42:36,890 - climada.entity.exposures.litpop.gpw_population - WARNING - Reference year: 2018. Using nearest available year for GPW data: 2020\n",
      "2024-08-03 13:42:36,907 - climada.entity.exposures.litpop.gpw_population - WARNING - Reference year: 2018. Using nearest available year for GPW data: 2020\n",
      "2024-08-03 13:42:36,924 - climada.entity.exposures.litpop.gpw_population - WARNING - Reference year: 2018. Using nearest available year for GPW data: 2020\n",
      "2024-08-03 13:42:37,237 - climada.entity.exposures.litpop.gpw_population - WARNING - Reference year: 2018. Using nearest available year for GPW data: 2020\n",
      "2024-08-03 13:42:37,253 - climada.entity.exposures.litpop.gpw_population - WARNING - Reference year: 2018. Using nearest available year for GPW data: 2020\n",
      "2024-08-03 13:42:37,272 - climada.entity.exposures.litpop.gpw_population - WARNING - Reference year: 2018. Using nearest available year for GPW data: 2020\n",
      "2024-08-03 13:42:37,622 - climada.entity.exposures.litpop.gpw_population - WARNING - Reference year: 2018. Using nearest available year for GPW data: 2020\n",
      "2024-08-03 13:42:37,638 - climada.entity.exposures.litpop.gpw_population - WARNING - Reference year: 2018. Using nearest available year for GPW data: 2020\n",
      "2024-08-03 13:42:37,653 - climada.entity.exposures.litpop.gpw_population - WARNING - Reference year: 2018. Using nearest available year for GPW data: 2020\n",
      "2024-08-03 13:42:37,660 - climada.entity.exposures.litpop.gpw_population - WARNING - Reference year: 2018. Using nearest available year for GPW data: 2020\n",
      "2024-08-03 13:42:37,681 - climada.entity.exposures.litpop.gpw_population - WARNING - Reference year: 2018. Using nearest available year for GPW data: 2020\n",
      "2024-08-03 13:42:37,696 - climada.entity.exposures.litpop.gpw_population - WARNING - Reference year: 2018. Using nearest available year for GPW data: 2020\n"
     ]
    }
   ],
   "source": [
    "# NZ with resolution 10km\n",
    "exp_nz = LitPop.from_countries(countries=['NZL'],fin_mode='norm',res_arcsec=300)\n",
    "\n",
    "# Exposures: rename column and assign id\n",
    "exp_nz.gdf.rename(columns={\"impf_\": \"impf_\" + haz_type}, inplace=True)\n",
    "exp_nz.gdf['impf_' + haz_type] = haz_id\n",
    "exp_nz.check()"
   ]
  },
  {
   "cell_type": "code",
   "execution_count": 9,
   "id": "4421bd02-b069-4119-bd2a-61a2d5e41c17",
   "metadata": {},
   "outputs": [
    {
     "name": "stdout",
     "output_type": "stream",
     "text": [
      "Aggregated average annual impact: 6.4610466008611e-07\n"
     ]
    }
   ],
   "source": [
    "# Compute impact\n",
    "imp_tc = ImpactCalc(exp_nz, impf_set, haz_tc).impact()  # Do not save the results geographically resolved (only aggregate values)\n",
    "\n",
    "# aai_agg is the Aggregated average annual impact\n",
    "print(f\"Aggregated average annual impact: {imp_tc.aai_agg}\") "
   ]
  },
  {
   "cell_type": "code",
   "execution_count": null,
   "id": "257a7c09-7b43-4808-8821-b630c83b57e3",
   "metadata": {},
   "outputs": [],
   "source": []
  }
 ],
 "metadata": {
  "kernelspec": {
   "display_name": "Python 3 (ipykernel)",
   "language": "python",
   "name": "python3"
  },
  "language_info": {
   "codemirror_mode": {
    "name": "ipython",
    "version": 3
   },
   "file_extension": ".py",
   "mimetype": "text/x-python",
   "name": "python",
   "nbconvert_exporter": "python",
   "pygments_lexer": "ipython3",
   "version": "3.9.18"
  }
 },
 "nbformat": 4,
 "nbformat_minor": 5
}
