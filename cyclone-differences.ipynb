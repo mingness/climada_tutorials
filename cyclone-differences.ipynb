{
 "cells": [
  {
   "cell_type": "markdown",
   "id": "a6a39519-18d1-4061-b4b0-ce7ed4337ad0",
   "metadata": {},
   "source": [
    "# Different Impacts from Different Formulations of Tropical Cyclones"
   ]
  },
  {
   "cell_type": "markdown",
   "id": "48867648-b425-44c2-b8f0-f8232c7683c5",
   "metadata": {},
   "source": [
    "This notebook goes through the calculation of the impact of tropical cyclones on New Zealand, changing the formulation of the hazard, to show how each one changes the impact calculation."
   ]
  },
  {
   "cell_type": "code",
   "execution_count": 1,
   "id": "b8792acb-e11b-473a-a904-f449c62f18b7",
   "metadata": {},
   "outputs": [],
   "source": [
    "%matplotlib inline\n",
    "import numpy as np\n",
    "import pandas as pd\n",
    "import matplotlib.pyplot as plt"
   ]
  },
  {
   "cell_type": "code",
   "execution_count": 2,
   "id": "397a4341-03f2-4a32-9715-720b08527d51",
   "metadata": {},
   "outputs": [
    {
     "name": "stderr",
     "output_type": "stream",
     "text": [
      "/home/ming/mambaforge/envs/climada_stable/lib/python3.9/site-packages/dask/dataframe/_pyarrow_compat.py:17: FutureWarning: Minimal version of pyarrow will soon be increased to 14.0.1. You are using 12.0.1. Please consider upgrading.\n",
      "  warnings.warn(\n"
     ]
    }
   ],
   "source": [
    "from climada.entity import LitPop\n",
    "\n",
    "from climada.entity.entity_def import Entity\n",
    "from climada.entity import ImpactFuncSet, ImpactFunc\n",
    "from climada.engine import Impact\n",
    "from climada.engine import ImpactCalc\n",
    "\n",
    "from climada.hazard import TCTracks, TropCyclone, Centroids\n",
    "from climada.entity import ImpfTropCyclone"
   ]
  },
  {
   "cell_type": "markdown",
   "id": "8f32689b-fc3e-4704-b9dd-6039160551c5",
   "metadata": {},
   "source": [
    "### Exposure and centroid"
   ]
  },
  {
   "cell_type": "code",
   "execution_count": 3,
   "id": "d9f0b21c-c614-4c62-b45a-fc97ae1f972b",
   "metadata": {},
   "outputs": [
    {
     "name": "stdout",
     "output_type": "stream",
     "text": [
      "2024-08-03 13:23:09,133 - climada.entity.exposures.litpop.gpw_population - WARNING - Reference year: 2018. Using nearest available year for GPW data: 2020\n",
      "2024-08-03 13:23:09,159 - climada.entity.exposures.litpop.gpw_population - WARNING - Reference year: 2018. Using nearest available year for GPW data: 2020\n",
      "2024-08-03 13:23:09,175 - climada.entity.exposures.litpop.gpw_population - WARNING - Reference year: 2018. Using nearest available year for GPW data: 2020\n",
      "2024-08-03 13:23:09,191 - climada.entity.exposures.litpop.gpw_population - WARNING - Reference year: 2018. Using nearest available year for GPW data: 2020\n",
      "2024-08-03 13:23:09,223 - climada.entity.exposures.litpop.gpw_population - WARNING - Reference year: 2018. Using nearest available year for GPW data: 2020\n",
      "2024-08-03 13:23:09,238 - climada.entity.exposures.litpop.gpw_population - WARNING - Reference year: 2018. Using nearest available year for GPW data: 2020\n",
      "2024-08-03 13:23:09,257 - climada.entity.exposures.litpop.gpw_population - WARNING - Reference year: 2018. Using nearest available year for GPW data: 2020\n",
      "2024-08-03 13:23:09,276 - climada.entity.exposures.litpop.gpw_population - WARNING - Reference year: 2018. Using nearest available year for GPW data: 2020\n",
      "2024-08-03 13:23:09,295 - climada.entity.exposures.litpop.gpw_population - WARNING - Reference year: 2018. Using nearest available year for GPW data: 2020\n",
      "2024-08-03 13:23:09,324 - climada.entity.exposures.litpop.gpw_population - WARNING - Reference year: 2018. Using nearest available year for GPW data: 2020\n",
      "2024-08-03 13:23:09,344 - climada.entity.exposures.litpop.gpw_population - WARNING - Reference year: 2018. Using nearest available year for GPW data: 2020\n",
      "2024-08-03 13:23:09,352 - climada.entity.exposures.litpop.gpw_population - WARNING - Reference year: 2018. Using nearest available year for GPW data: 2020\n",
      "2024-08-03 13:23:09,360 - climada.entity.exposures.litpop.gpw_population - WARNING - Reference year: 2018. Using nearest available year for GPW data: 2020\n",
      "2024-08-03 13:23:09,378 - climada.entity.exposures.litpop.gpw_population - WARNING - Reference year: 2018. Using nearest available year for GPW data: 2020\n",
      "2024-08-03 13:23:09,401 - climada.entity.exposures.litpop.gpw_population - WARNING - Reference year: 2018. Using nearest available year for GPW data: 2020\n",
      "2024-08-03 13:23:09,423 - climada.entity.exposures.litpop.gpw_population - WARNING - Reference year: 2018. Using nearest available year for GPW data: 2020\n",
      "2024-08-03 13:23:09,748 - climada.entity.exposures.litpop.gpw_population - WARNING - Reference year: 2018. Using nearest available year for GPW data: 2020\n",
      "2024-08-03 13:23:09,767 - climada.entity.exposures.litpop.gpw_population - WARNING - Reference year: 2018. Using nearest available year for GPW data: 2020\n",
      "2024-08-03 13:23:09,787 - climada.entity.exposures.litpop.gpw_population - WARNING - Reference year: 2018. Using nearest available year for GPW data: 2020\n",
      "2024-08-03 13:23:10,157 - climada.entity.exposures.litpop.gpw_population - WARNING - Reference year: 2018. Using nearest available year for GPW data: 2020\n",
      "2024-08-03 13:23:10,175 - climada.entity.exposures.litpop.gpw_population - WARNING - Reference year: 2018. Using nearest available year for GPW data: 2020\n",
      "2024-08-03 13:23:10,191 - climada.entity.exposures.litpop.gpw_population - WARNING - Reference year: 2018. Using nearest available year for GPW data: 2020\n",
      "2024-08-03 13:23:10,201 - climada.entity.exposures.litpop.gpw_population - WARNING - Reference year: 2018. Using nearest available year for GPW data: 2020\n",
      "2024-08-03 13:23:10,224 - climada.entity.exposures.litpop.gpw_population - WARNING - Reference year: 2018. Using nearest available year for GPW data: 2020\n",
      "2024-08-03 13:23:10,241 - climada.entity.exposures.litpop.gpw_population - WARNING - Reference year: 2018. Using nearest available year for GPW data: 2020\n"
     ]
    }
   ],
   "source": [
    "# NZ with resolution 10km\n",
    "exp_nz = LitPop.from_countries(countries=['NZL'],fin_mode='norm',res_arcsec=300)\n",
    "\n",
    "# Define the centroids from the exposures position\n",
    "lat = exp_nz.gdf['latitude'].values\n",
    "lon = exp_nz.gdf['longitude'].values\n",
    "centrs = Centroids.from_lat_lon(lat, lon)\n",
    "centrs.check()"
   ]
  },
  {
   "cell_type": "markdown",
   "id": "e073d7ad-126d-4228-9659-156aea400fec",
   "metadata": {},
   "source": [
    "### Impact function"
   ]
  },
  {
   "cell_type": "code",
   "execution_count": 4,
   "id": "9ec15e8f-ec39-482a-ae36-7594b233df91",
   "metadata": {},
   "outputs": [],
   "source": [
    "# impact function TC\n",
    "impf_tc = ImpfTropCyclone.from_emanuel_usa()\n",
    "\n",
    "# add the impact function to an Impact function set\n",
    "impf_set = ImpactFuncSet([impf_tc])\n",
    "\n",
    "# Get the hazard type and hazard id\n",
    "[haz_type] = impf_set.get_hazard_types()\n",
    "[haz_id] = impf_set.get_ids()[haz_type]"
   ]
  },
  {
   "cell_type": "code",
   "execution_count": 5,
   "id": "43c2e37f-e688-4447-9734-2793e47b3d74",
   "metadata": {},
   "outputs": [],
   "source": [
    "# Exposures: rename column and assign id\n",
    "exp_nz.gdf.rename(columns={\"impf_\": \"impf_\" + haz_type}, inplace=True)\n",
    "exp_nz.gdf['impf_' + haz_type] = haz_id\n",
    "exp_nz.check()"
   ]
  },
  {
   "cell_type": "markdown",
   "id": "4bcd1b9b-4e3d-46db-a341-48bb86c356f3",
   "metadata": {},
   "source": [
    "### Cyclones with raw track data"
   ]
  },
  {
   "cell_type": "code",
   "execution_count": 6,
   "id": "27aa0d03-0e45-4c39-add4-346f85df085e",
   "metadata": {},
   "outputs": [
    {
     "name": "stdout",
     "output_type": "stream",
     "text": [
      "2024-08-03 13:23:10,276 - climada.hazard.tc_tracks - WARNING - `correct_pres` is deprecated. Use `estimate_missing` instead.\n",
      "2024-08-03 13:23:10,561 - climada.hazard.tc_tracks - WARNING - The cached IBTrACS data set dates from 2023-06-07 23:07:38 (older than 180 days). Very likely, a more recent version is available. Consider manually removing the file /home/ming/climada/data/IBTrACS.ALL.v04r00.nc and re-running this function, which will download the most recent version of the IBTrACS data set from the official URL.\n",
      "2024-08-03 13:23:11,547 - climada.hazard.tc_tracks - WARNING - 94 storm events are discarded because no valid wind/pressure values have been found: 2010020S14147, 2010022S12160, 2010027S14184, 2010038S08194, 2010051S06195, ...\n"
     ]
    },
    {
     "name": "stderr",
     "output_type": "stream",
     "text": [
      "/home/ming/mambaforge/envs/climada_stable/lib/python3.9/site-packages/climada/hazard/tc_tracks.py:614: FutureWarning: The return type of `Dataset.dims` will be changed to return a set of dimension names in future, in order to be more consistent with `DataArray.dims`. To access a mapping from dimension names to lengths, please use `Dataset.sizes`.\n",
      "  if ibtracs_ds.dims['storm'] == 0:\n"
     ]
    },
    {
     "name": "stdout",
     "output_type": "stream",
     "text": [
      "num tracks hist: 47\n"
     ]
    }
   ],
   "source": [
    "# Load historical tropical cyclone tracks from ibtracs over the North Atlantic basin between 2010-2012\n",
    "ibtracks_nz = TCTracks.from_ibtracs_netcdf(provider='wellington', basin='SP', year_range=(2010, 2023), correct_pres=True)\n",
    "print('num tracks hist:', ibtracks_nz.size)\n",
    "\n",
    "# Using the tracks, compute the windspeed at the location of the centroids\n",
    "haz_tc = TropCyclone.from_tracks(ibtracks_nz, centroids=centrs)\n",
    "haz_tc.check()"
   ]
  },
  {
   "cell_type": "code",
   "execution_count": 7,
   "id": "db28944a-4ee8-4a75-9026-76e48f452727",
   "metadata": {},
   "outputs": [
    {
     "name": "stdout",
     "output_type": "stream",
     "text": [
      "Aggregated over New Zealand, average annual impact: 4.5621755663973166e-07\n"
     ]
    }
   ],
   "source": [
    "# Compute impact\n",
    "imp_tc = ImpactCalc(exp_nz, impf_set, haz_tc).impact()  # Do not save the results geographically resolved (only aggregate values)\n",
    "\n",
    "# aai_agg is the Aggregated average annual impact\n",
    "print(f\"Aggregated over New Zealand, average annual impact: {imp_tc.aai_agg}\")"
   ]
  },
  {
   "cell_type": "markdown",
   "id": "20e9d1ac-4478-4568-be2d-17616e19fdc5",
   "metadata": {},
   "source": [
    "### Cyclone with time step 0.5h"
   ]
  },
  {
   "cell_type": "code",
   "execution_count": 12,
   "id": "62d60a6f-9f7c-479e-9b0b-82d0a429d63e",
   "metadata": {},
   "outputs": [
    {
     "name": "stdout",
     "output_type": "stream",
     "text": [
      "2024-08-03 13:23:27,605 - climada.hazard.tc_tracks - WARNING - `correct_pres` is deprecated. Use `estimate_missing` instead.\n",
      "2024-08-03 13:23:27,779 - climada.hazard.tc_tracks - WARNING - The cached IBTrACS data set dates from 2023-06-07 23:07:38 (older than 180 days). Very likely, a more recent version is available. Consider manually removing the file /home/ming/climada/data/IBTrACS.ALL.v04r00.nc and re-running this function, which will download the most recent version of the IBTrACS data set from the official URL.\n",
      "2024-08-03 13:23:28,663 - climada.hazard.tc_tracks - WARNING - 94 storm events are discarded because no valid wind/pressure values have been found: 2010020S14147, 2010022S12160, 2010027S14184, 2010038S08194, 2010051S06195, ...\n"
     ]
    },
    {
     "name": "stderr",
     "output_type": "stream",
     "text": [
      "/home/ming/mambaforge/envs/climada_stable/lib/python3.9/site-packages/climada/hazard/tc_tracks.py:614: FutureWarning: The return type of `Dataset.dims` will be changed to return a set of dimension names in future, in order to be more consistent with `DataArray.dims`. To access a mapping from dimension names to lengths, please use `Dataset.sizes`.\n",
      "  if ibtracs_ds.dims['storm'] == 0:\n"
     ]
    },
    {
     "name": "stdout",
     "output_type": "stream",
     "text": [
      "num tracks hist: 47\n"
     ]
    }
   ],
   "source": [
    "# Load historical tropical cyclone tracks from ibtracs over the North Atlantic basin between 2010-2012\n",
    "ibtracks_nz = TCTracks.from_ibtracs_netcdf(provider='wellington', basin='SP', year_range=(2010, 2023), correct_pres=True)\n",
    "ibtracks_nz.equal_timestep(time_step_h=0.5)\n",
    "print('num tracks hist:', ibtracks_nz.size)\n",
    "\n",
    "# Using the tracks, compute the windspeed at the location of the centroids\n",
    "haz_tc = TropCyclone.from_tracks(ibtracks_nz, centroids=centrs)\n",
    "haz_tc.check()"
   ]
  },
  {
   "cell_type": "code",
   "execution_count": 13,
   "id": "9bc8e059-c736-46a8-8afe-69b8df496247",
   "metadata": {},
   "outputs": [
    {
     "name": "stdout",
     "output_type": "stream",
     "text": [
      "Aggregated over New Zealand, average annual impact: 5.292302626546226e-07\n"
     ]
    }
   ],
   "source": [
    "# Compute impact\n",
    "imp_tc = ImpactCalc(exp_nz, impf_set, haz_tc).impact()  # Do not save the results geographically resolved (only aggregate values)\n",
    "\n",
    "# aai_agg is the Aggregated average annual impact\n",
    "print(f\"Aggregated over New Zealand, average annual impact: {imp_tc.aai_agg}\")"
   ]
  },
  {
   "cell_type": "markdown",
   "id": "c28de395-a819-496d-906b-ccc953eaadd8",
   "metadata": {},
   "source": [
    "### Cyclone with time step 0.1h"
   ]
  },
  {
   "cell_type": "code",
   "execution_count": 14,
   "id": "87704217-6b2d-4cda-9cc3-f549eeb86364",
   "metadata": {},
   "outputs": [
    {
     "name": "stdout",
     "output_type": "stream",
     "text": [
      "2024-08-03 13:23:31,534 - climada.hazard.tc_tracks - WARNING - `correct_pres` is deprecated. Use `estimate_missing` instead.\n",
      "2024-08-03 13:23:31,691 - climada.hazard.tc_tracks - WARNING - The cached IBTrACS data set dates from 2023-06-07 23:07:38 (older than 180 days). Very likely, a more recent version is available. Consider manually removing the file /home/ming/climada/data/IBTrACS.ALL.v04r00.nc and re-running this function, which will download the most recent version of the IBTrACS data set from the official URL.\n",
      "2024-08-03 13:23:32,504 - climada.hazard.tc_tracks - WARNING - 94 storm events are discarded because no valid wind/pressure values have been found: 2010020S14147, 2010022S12160, 2010027S14184, 2010038S08194, 2010051S06195, ...\n"
     ]
    },
    {
     "name": "stderr",
     "output_type": "stream",
     "text": [
      "/home/ming/mambaforge/envs/climada_stable/lib/python3.9/site-packages/climada/hazard/tc_tracks.py:614: FutureWarning: The return type of `Dataset.dims` will be changed to return a set of dimension names in future, in order to be more consistent with `DataArray.dims`. To access a mapping from dimension names to lengths, please use `Dataset.sizes`.\n",
      "  if ibtracs_ds.dims['storm'] == 0:\n"
     ]
    },
    {
     "name": "stdout",
     "output_type": "stream",
     "text": [
      "num tracks hist: 47\n"
     ]
    }
   ],
   "source": [
    "# Load historical tropical cyclone tracks from ibtracs over the North Atlantic basin between 2010-2012\n",
    "ibtracks_nz = TCTracks.from_ibtracs_netcdf(provider='wellington', basin='SP', year_range=(2010, 2023), correct_pres=True)\n",
    "ibtracks_nz.equal_timestep(time_step_h=0.1) # recommended by Chahan\n",
    "print('num tracks hist:', ibtracks_nz.size)\n",
    "\n",
    "# Using the tracks, compute the windspeed at the location of the centroids\n",
    "haz_tc = TropCyclone.from_tracks(ibtracks_nz, centroids=centrs)\n",
    "haz_tc.check()"
   ]
  },
  {
   "cell_type": "code",
   "execution_count": 15,
   "id": "3f2bb6fa-911a-4502-90f5-cc5ea14981ef",
   "metadata": {},
   "outputs": [
    {
     "name": "stdout",
     "output_type": "stream",
     "text": [
      "Aggregated over New Zealand, average annual impact: 6.4610466008611e-07\n"
     ]
    }
   ],
   "source": [
    "# Compute impact\n",
    "imp_tc = ImpactCalc(exp_nz, impf_set, haz_tc).impact()  # Do not save the results geographically resolved (only aggregate values)\n",
    "\n",
    "# aai_agg is the Aggregated average annual impact\n",
    "print(f\"Aggregated over New Zealand, average annual impact: {imp_tc.aai_agg}\")"
   ]
  },
  {
   "cell_type": "code",
   "execution_count": null,
   "id": "257a7c09-7b43-4808-8821-b630c83b57e3",
   "metadata": {},
   "outputs": [],
   "source": []
  }
 ],
 "metadata": {
  "kernelspec": {
   "display_name": "Python 3 (ipykernel)",
   "language": "python",
   "name": "python3"
  },
  "language_info": {
   "codemirror_mode": {
    "name": "ipython",
    "version": 3
   },
   "file_extension": ".py",
   "mimetype": "text/x-python",
   "name": "python",
   "nbconvert_exporter": "python",
   "pygments_lexer": "ipython3",
   "version": "3.9.18"
  }
 },
 "nbformat": 4,
 "nbformat_minor": 5
}
